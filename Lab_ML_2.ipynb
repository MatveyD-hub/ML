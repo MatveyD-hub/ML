{
  "nbformat": 4,
  "nbformat_minor": 0,
  "metadata": {
    "colab": {
      "name": "Lab_ML_2.ipynb",
      "provenance": [],
      "collapsed_sections": []
    },
    "kernelspec": {
      "name": "python3",
      "display_name": "Python 3"
    },
    "language_info": {
      "name": "python"
    }
  },
  "cells": [
    {
      "cell_type": "code",
      "metadata": {
        "id": "yZUBng4mkY5I",
        "colab": {
          "base_uri": "https://localhost:8080/"
        },
        "outputId": "5de4e87c-3d28-4074-cc94-1addc9e7b397"
      },
      "source": [
        "import numpy as np\n",
        "import pandas as pd\n",
        "import matplotlib.pyplot as plt\n",
        "import seaborn as sns\n",
        "import math\n",
        "# import warnings\n",
        "# warnings.filterwarnings('ignore')\n",
        "from sklearn.preprocessing import LabelEncoder\n",
        "from sklearn.model_selection import RandomizedSearchCV\n",
        "from sklearn.linear_model import LogisticRegression\n",
        "from sklearn.svm import SVC\n",
        "from sklearn.tree import DecisionTreeClassifier\n",
        "import pandas as pd\n",
        "import numpy as np\n",
        "import seaborn as sns\n",
        "from sklearn import metrics\n",
        "\n",
        "import matplotlib.pyplot as plt\n",
        "% matplotlib inline\n",
        "from sklearn.linear_model import LogisticRegression\n",
        "from sklearn.externals import joblib"
      ],
      "execution_count": 1,
      "outputs": [
        {
          "output_type": "stream",
          "name": "stderr",
          "text": [
            "/usr/local/lib/python3.7/dist-packages/sklearn/externals/joblib/__init__.py:15: FutureWarning: sklearn.externals.joblib is deprecated in 0.21 and will be removed in 0.23. Please import this functionality directly from joblib, which can be installed with: pip install joblib. If this warning is raised when loading pickled models, you may need to re-serialize those models with scikit-learn 0.21+.\n",
            "  warnings.warn(msg, category=FutureWarning)\n"
          ]
        }
      ]
    },
    {
      "cell_type": "code",
      "metadata": {
        "colab": {
          "base_uri": "https://localhost:8080/",
          "height": 203
        },
        "id": "k4ao8XxUsZ8x",
        "outputId": "5c18b14a-7ccf-43d7-e16c-c0af7d6b1258"
      },
      "source": [
        "\n",
        "data = pd.read_csv('train.csv')\n",
        "data.head(5)\n"
      ],
      "execution_count": 2,
      "outputs": [
        {
          "output_type": "execute_result",
          "data": {
            "text/html": [
              "<div>\n",
              "<style scoped>\n",
              "    .dataframe tbody tr th:only-of-type {\n",
              "        vertical-align: middle;\n",
              "    }\n",
              "\n",
              "    .dataframe tbody tr th {\n",
              "        vertical-align: top;\n",
              "    }\n",
              "\n",
              "    .dataframe thead th {\n",
              "        text-align: right;\n",
              "    }\n",
              "</style>\n",
              "<table border=\"1\" class=\"dataframe\">\n",
              "  <thead>\n",
              "    <tr style=\"text-align: right;\">\n",
              "      <th></th>\n",
              "      <th>Pregnancies</th>\n",
              "      <th>Glucose</th>\n",
              "      <th>BloodPressure</th>\n",
              "      <th>SkinThickness</th>\n",
              "      <th>Insulin</th>\n",
              "      <th>BMI</th>\n",
              "      <th>DiabetesPedigreeFunction</th>\n",
              "      <th>Age</th>\n",
              "      <th>Outcome</th>\n",
              "    </tr>\n",
              "  </thead>\n",
              "  <tbody>\n",
              "    <tr>\n",
              "      <th>0</th>\n",
              "      <td>6</td>\n",
              "      <td>148</td>\n",
              "      <td>72</td>\n",
              "      <td>35</td>\n",
              "      <td>0</td>\n",
              "      <td>33.6</td>\n",
              "      <td>0.627</td>\n",
              "      <td>50</td>\n",
              "      <td>1</td>\n",
              "    </tr>\n",
              "    <tr>\n",
              "      <th>1</th>\n",
              "      <td>1</td>\n",
              "      <td>85</td>\n",
              "      <td>66</td>\n",
              "      <td>29</td>\n",
              "      <td>0</td>\n",
              "      <td>26.6</td>\n",
              "      <td>0.351</td>\n",
              "      <td>31</td>\n",
              "      <td>0</td>\n",
              "    </tr>\n",
              "    <tr>\n",
              "      <th>2</th>\n",
              "      <td>8</td>\n",
              "      <td>183</td>\n",
              "      <td>64</td>\n",
              "      <td>0</td>\n",
              "      <td>0</td>\n",
              "      <td>23.3</td>\n",
              "      <td>0.672</td>\n",
              "      <td>32</td>\n",
              "      <td>1</td>\n",
              "    </tr>\n",
              "    <tr>\n",
              "      <th>3</th>\n",
              "      <td>1</td>\n",
              "      <td>89</td>\n",
              "      <td>66</td>\n",
              "      <td>23</td>\n",
              "      <td>94</td>\n",
              "      <td>28.1</td>\n",
              "      <td>0.167</td>\n",
              "      <td>21</td>\n",
              "      <td>0</td>\n",
              "    </tr>\n",
              "    <tr>\n",
              "      <th>4</th>\n",
              "      <td>0</td>\n",
              "      <td>137</td>\n",
              "      <td>40</td>\n",
              "      <td>35</td>\n",
              "      <td>168</td>\n",
              "      <td>43.1</td>\n",
              "      <td>2.288</td>\n",
              "      <td>33</td>\n",
              "      <td>1</td>\n",
              "    </tr>\n",
              "  </tbody>\n",
              "</table>\n",
              "</div>"
            ],
            "text/plain": [
              "   Pregnancies  Glucose  BloodPressure  ...  DiabetesPedigreeFunction  Age  Outcome\n",
              "0            6      148             72  ...                     0.627   50        1\n",
              "1            1       85             66  ...                     0.351   31        0\n",
              "2            8      183             64  ...                     0.672   32        1\n",
              "3            1       89             66  ...                     0.167   21        0\n",
              "4            0      137             40  ...                     2.288   33        1\n",
              "\n",
              "[5 rows x 9 columns]"
            ]
          },
          "metadata": {},
          "execution_count": 2
        }
      ]
    },
    {
      "cell_type": "code",
      "metadata": {
        "colab": {
          "base_uri": "https://localhost:8080/"
        },
        "id": "LNaAnjpONAs0",
        "outputId": "4c265c70-cd1e-4cc2-8500-91de75c5b629"
      },
      "source": [
        "X = data.drop(columns='Outcome')\n",
        "y = data['Outcome']\n",
        "print(X)"
      ],
      "execution_count": 3,
      "outputs": [
        {
          "output_type": "stream",
          "name": "stdout",
          "text": [
            "     Pregnancies  Glucose  BloodPressure  ...   BMI  DiabetesPedigreeFunction  Age\n",
            "0              6      148             72  ...  33.6                     0.627   50\n",
            "1              1       85             66  ...  26.6                     0.351   31\n",
            "2              8      183             64  ...  23.3                     0.672   32\n",
            "3              1       89             66  ...  28.1                     0.167   21\n",
            "4              0      137             40  ...  43.1                     2.288   33\n",
            "..           ...      ...            ...  ...   ...                       ...  ...\n",
            "763           10      101             76  ...  32.9                     0.171   63\n",
            "764            2      122             70  ...  36.8                     0.340   27\n",
            "765            5      121             72  ...  26.2                     0.245   30\n",
            "766            1      126             60  ...  30.1                     0.349   47\n",
            "767            1       93             70  ...  30.4                     0.315   23\n",
            "\n",
            "[768 rows x 8 columns]\n"
          ]
        }
      ]
    },
    {
      "cell_type": "code",
      "metadata": {
        "colab": {
          "base_uri": "https://localhost:8080/"
        },
        "id": "uzpJCBhE4RTe",
        "outputId": "628cee29-ad51-43bd-c82d-84a3d5e35941"
      },
      "source": [
        "data.info()"
      ],
      "execution_count": 4,
      "outputs": [
        {
          "output_type": "stream",
          "name": "stdout",
          "text": [
            "<class 'pandas.core.frame.DataFrame'>\n",
            "RangeIndex: 768 entries, 0 to 767\n",
            "Data columns (total 9 columns):\n",
            " #   Column                    Non-Null Count  Dtype  \n",
            "---  ------                    --------------  -----  \n",
            " 0   Pregnancies               768 non-null    int64  \n",
            " 1   Glucose                   768 non-null    int64  \n",
            " 2   BloodPressure             768 non-null    int64  \n",
            " 3   SkinThickness             768 non-null    int64  \n",
            " 4   Insulin                   768 non-null    int64  \n",
            " 5   BMI                       768 non-null    float64\n",
            " 6   DiabetesPedigreeFunction  768 non-null    float64\n",
            " 7   Age                       768 non-null    int64  \n",
            " 8   Outcome                   768 non-null    int64  \n",
            "dtypes: float64(2), int64(7)\n",
            "memory usage: 54.1 KB\n"
          ]
        }
      ]
    },
    {
      "cell_type": "code",
      "metadata": {
        "colab": {
          "base_uri": "https://localhost:8080/",
          "height": 609
        },
        "id": "1bqPvh3pBluF",
        "outputId": "85bbb8d9-31b6-4d6e-8ea6-eb5b47cdc0f4"
      },
      "source": [
        "corr = data.corr()\n",
        "print(corr)\n",
        "sns.heatmap(corr, \n",
        "         xticklabels=corr.columns, \n",
        "         yticklabels=corr.columns)"
      ],
      "execution_count": 5,
      "outputs": [
        {
          "output_type": "stream",
          "name": "stdout",
          "text": [
            "                          Pregnancies   Glucose  ...       Age   Outcome\n",
            "Pregnancies                  1.000000  0.129459  ...  0.544341  0.221898\n",
            "Glucose                      0.129459  1.000000  ...  0.263514  0.466581\n",
            "BloodPressure                0.141282  0.152590  ...  0.239528  0.065068\n",
            "SkinThickness               -0.081672  0.057328  ... -0.113970  0.074752\n",
            "Insulin                     -0.073535  0.331357  ... -0.042163  0.130548\n",
            "BMI                          0.017683  0.221071  ...  0.036242  0.292695\n",
            "DiabetesPedigreeFunction    -0.033523  0.137337  ...  0.033561  0.173844\n",
            "Age                          0.544341  0.263514  ...  1.000000  0.238356\n",
            "Outcome                      0.221898  0.466581  ...  0.238356  1.000000\n",
            "\n",
            "[9 rows x 9 columns]\n"
          ]
        },
        {
          "output_type": "execute_result",
          "data": {
            "text/plain": [
              "<matplotlib.axes._subplots.AxesSubplot at 0x7f881a6eb850>"
            ]
          },
          "metadata": {},
          "execution_count": 5
        },
        {
          "output_type": "display_data",
          "data": {
            "image/png": "[encoded data removed]",
            "text/plain": [
              "<Figure size 432x288 with 2 Axes>"
            ]
          },
          "metadata": {
            "needs_background": "light"
          }
        }
      ]
    },
    {
      "cell_type": "code",
      "metadata": {
        "id": "_j3_F8F4GWb6"
      },
      "source": [
        "dfTrain = data[:650]\n",
        "dfTest = data[650:750]\n",
        "dfCheck = data[750:]\n",
        "trainLabel = np.asarray(dfTrain['Outcome'])\n",
        "trainData = np.asarray(dfTrain.drop('Outcome',1).values)\n",
        "testLabel = np.asarray(dfTest['Outcome'])\n",
        "testData = np.asarray(dfTest.drop('Outcome',1).values)"
      ],
      "execution_count": 6,
      "outputs": []
    },
    {
      "cell_type": "code",
      "metadata": {
        "colab": {
          "base_uri": "https://localhost:8080/"
        },
        "id": "8zWYIeIHGc2V",
        "outputId": "23da6ba8-9405-4cc6-c1f5-9b02249490a5"
      },
      "source": [
        "means = np.mean(trainData, axis=0)\n",
        "stds = np.std(trainData, axis=0)\n",
        "trainData = (trainData - means)/stds\n",
        "testData = (testData - means)/stds\n",
        "\n",
        "diabetesCheck = LogisticRegression()\n",
        "diabetesCheck.fit(trainData, trainLabel)"
      ],
      "execution_count": 7,
      "outputs": [
        {
          "output_type": "execute_result",
          "data": {
            "text/plain": [
              "LogisticRegression(C=1.0, class_weight=None, dual=False, fit_intercept=True,\n",
              "                   intercept_scaling=1, l1_ratio=None, max_iter=100,\n",
              "                   multi_class='auto', n_jobs=None, penalty='l2',\n",
              "                   random_state=None, solver='lbfgs', tol=0.0001, verbose=0,\n",
              "                   warm_start=False)"
            ]
          },
          "metadata": {},
          "execution_count": 7
        }
      ]
    },
    {
      "cell_type": "code",
      "metadata": {
        "colab": {
          "base_uri": "https://localhost:8080/"
        },
        "id": "HOgkcD8gGl0_",
        "outputId": "4d803815-d8ea-4b95-d7ed-ed5d0b52bdcf"
      },
      "source": [
        "accuracy = diabetesCheck.score(testData, testLabel)\n",
        "y_pred_test = diabetesCheck.predict(testData)\n",
        "print(metrics.classification_report(testLabel, y_pred_test))  "
      ],
      "execution_count": 8,
      "outputs": [
        {
          "output_type": "stream",
          "name": "stdout",
          "text": [
            "              precision    recall  f1-score   support\n",
            "\n",
            "           0       0.80      0.87      0.83        63\n",
            "           1       0.74      0.62      0.68        37\n",
            "\n",
            "    accuracy                           0.78       100\n",
            "   macro avg       0.77      0.75      0.75       100\n",
            "weighted avg       0.78      0.78      0.78       100\n",
            "\n"
          ]
        }
      ]
    },
    {
      "cell_type": "markdown",
      "metadata": {
        "id": "ZnhocyH1f66x"
      },
      "source": [
        "Мы можем визуализировать, как наша модель использует различные свойства и какие свойства имеют больший вес."
      ]
    },
    {
      "cell_type": "code",
      "metadata": {
        "colab": {
          "base_uri": "https://localhost:8080/",
          "height": 405
        },
        "id": "FFjSeSc0GxUS",
        "outputId": "be9b1975-218a-4993-e81b-0940cc4dfa6c"
      },
      "source": [
        "\n",
        "coeff = list(diabetesCheck.coef_[0])\n",
        "labels = list(data.columns)\n",
        "labels = labels[:-1]\n",
        "features = pd.DataFrame()\n",
        "features['Features'] = labels\n",
        "features['importance'] = coeff\n",
        "features.sort_values(by=['importance'], ascending=True, inplace=True)\n",
        "features['positive'] = features['importance'] > 0\n",
        "features.set_index('Features', inplace=True)\n",
        "features.importance.plot(kind='barh', figsize=(11, 6),color = features.positive.map({True: 'blue', False: 'red'}))\n",
        "plt.xlabel('Importance')"
      ],
      "execution_count": 9,
      "outputs": [
        {
          "output_type": "execute_result",
          "data": {
            "text/plain": [
              "Text(0.5, 0, 'Importance')"
            ]
          },
          "metadata": {},
          "execution_count": 9
        },
        {
          "output_type": "display_data",
          "data": {
            "image/png": "[encoded data removed]",
            "text/plain": [
              "<Figure size 792x432 with 1 Axes>"
            ]
          },
          "metadata": {
            "needs_background": "light"
          }
        }
      ]
    },
    {
      "cell_type": "markdown",
      "metadata": {
        "id": "i7ebopnujecL"
      },
      "source": [
        "Создадим свою модель логистической регрессии"
      ]
    },
    {
      "cell_type": "code",
      "metadata": {
        "id": "ekPqzYRyjY1s"
      },
      "source": [
        "\n",
        "class logistic_regression():\n",
        "    def __init__(self, lr, iters):        \n",
        "        self.lr = lr\n",
        "        self.iters = iters\n",
        "\n",
        "    def fit(self, X, Y):\n",
        "        self.X, self.Y = X.copy(), Y.copy()\n",
        "        n = X.shape[0]\n",
        "        self.W = np.zeros(X.shape[1])\n",
        "        self.b = 0\n",
        "        for i in range(self.iters):\n",
        "            y_predicted = 1 / (1 + np.exp(-(np.dot(self.X, self.W) + self.b)))\n",
        "            self.W -= self.lr * ((1 / n) * np.dot(X.T, y_predicted - Y))\n",
        "            self.b -= self.lr * ((1 / n) * np.sum(y_predicted - Y))\n",
        "\n",
        "    def predict(self, X):\n",
        "        probabilities = np.array(1 / (1 + np.exp(-(np.dot(X, self.W) + self.b))))\n",
        "        y_pred = np.where(probabilities >= 0.5, 1, 0)\n",
        "        return y_pred"
      ],
      "execution_count": 10,
      "outputs": []
    },
    {
      "cell_type": "markdown",
      "metadata": {
        "id": "DUTXrmhkjihw"
      },
      "source": [
        "Теперь протестируем ее"
      ]
    },
    {
      "cell_type": "code",
      "metadata": {
        "colab": {
          "base_uri": "https://localhost:8080/"
        },
        "id": "TFaX2UbhjkHw",
        "outputId": "54159489-6b00-4459-9646-7b3f683291f2"
      },
      "source": [
        "def confusion_matrix(y_pred, y_test):\n",
        "    d = {'true1' : [0, 0], 'true0': [0, 0]}\n",
        "    conf_matrix = pd.DataFrame(d, index=['pred1', 'pred0'])\n",
        "    for i in range(len(y_pred)):\n",
        "        if y_pred[i] == 1 and y_test[i] == 1:\n",
        "            conf_matrix.loc['pred1', 'true1'] += 1\n",
        "        elif y_pred[i] == 1 and y_test[i] == 0:\n",
        "            conf_matrix.loc['pred1', 'true0'] += 1\n",
        "        elif y_pred[i] == 0 and y_test[i] == 1:\n",
        "            conf_matrix.loc['pred0', 'true1'] += 1\n",
        "        elif y_pred[i] == 0 and y_test[i] == 0:\n",
        "            conf_matrix.loc['pred0', 'true0'] += 1\n",
        "    return conf_matrix\n",
        "\n",
        "def classification_metrics(matrix):\n",
        "    true_positive = matrix.loc['pred1', 'true1']\n",
        "    false_positive = matrix.loc['pred1', 'true0']\n",
        "    false_negative = matrix.loc['pred0', 'true1']\n",
        "    true_negative = matrix.loc['pred0', 'true0']\n",
        "    precision = true_positive / (true_positive + false_negative)\n",
        "    recall = true_positive / (true_positive + false_negative)\n",
        "    accuracy = (true_positive + true_negative) / (true_positive + true_negative + false_negative + false_negative)\n",
        "    return accuracy, precision, recall\n",
        "\n",
        "params = [\n",
        "    (0.001, 5000),\n",
        "    (0.001, 10000),\n",
        "    (0.001, 15000),\n",
        "    (0.001, 20000),\n",
        "    (0.0001, 10000)\n",
        "]\n",
        "\n",
        "for lr_iters in params:\n",
        "    learningrate, iterations = lr_iters\n",
        "    my_log_regr = logistic_regression(lr=learningrate, iters=iterations)\n",
        "    my_log_regr.fit(trainData, trainLabel)\n",
        "    y_pred_test = my_log_regr.predict(testData)\n",
        "    y_pred_train = my_log_regr.predict(trainData)\n",
        "    train_acc = np.mean(trainLabel == y_pred_train)\n",
        "    test_acc = np.mean(testLabel == y_pred_test)\n",
        "    print(metrics.classification_report(testLabel, y_pred_test))  "
      ],
      "execution_count": 11,
      "outputs": [
        {
          "output_type": "stream",
          "name": "stdout",
          "text": [
            "              precision    recall  f1-score   support\n",
            "\n",
            "           0       0.80      0.84      0.82        63\n",
            "           1       0.71      0.65      0.68        37\n",
            "\n",
            "    accuracy                           0.77       100\n",
            "   macro avg       0.75      0.74      0.75       100\n",
            "weighted avg       0.77      0.77      0.77       100\n",
            "\n",
            "              precision    recall  f1-score   support\n",
            "\n",
            "           0       0.79      0.86      0.82        63\n",
            "           1       0.72      0.62      0.67        37\n",
            "\n",
            "    accuracy                           0.77       100\n",
            "   macro avg       0.76      0.74      0.75       100\n",
            "weighted avg       0.77      0.77      0.77       100\n",
            "\n",
            "              precision    recall  f1-score   support\n",
            "\n",
            "           0       0.79      0.86      0.82        63\n",
            "           1       0.72      0.62      0.67        37\n",
            "\n",
            "    accuracy                           0.77       100\n",
            "   macro avg       0.76      0.74      0.75       100\n",
            "weighted avg       0.77      0.77      0.77       100\n",
            "\n",
            "              precision    recall  f1-score   support\n",
            "\n",
            "           0       0.79      0.86      0.82        63\n",
            "           1       0.72      0.62      0.67        37\n",
            "\n",
            "    accuracy                           0.77       100\n",
            "   macro avg       0.76      0.74      0.75       100\n",
            "weighted avg       0.77      0.77      0.77       100\n",
            "\n",
            "              precision    recall  f1-score   support\n",
            "\n",
            "           0       0.80      0.81      0.80        63\n",
            "           1       0.67      0.65      0.66        37\n",
            "\n",
            "    accuracy                           0.75       100\n",
            "   macro avg       0.73      0.73      0.73       100\n",
            "weighted avg       0.75      0.75      0.75       100\n",
            "\n"
          ]
        }
      ]
    },
    {
      "cell_type": "markdown",
      "metadata": {
        "id": "N_fJ57n5xBzC"
      },
      "source": [
        "Перейдем к решению задачи через Дерево Решений"
      ]
    },
    {
      "cell_type": "code",
      "metadata": {
        "colab": {
          "base_uri": "https://localhost:8080/"
        },
        "id": "zY8d6sOczMS5",
        "outputId": "31f533f7-46b7-470a-8d64-d9d239a68d30"
      },
      "source": [
        "from sklearn.tree import DecisionTreeClassifier\n",
        "\n",
        "classifier = DecisionTreeClassifier()\n",
        "classifier = classifier.fit(trainData, trainLabel)\n",
        "# predict\n",
        "y_pred = classifier.predict(testData)\n",
        "print(metrics.classification_report(testLabel, y_pred))  "
      ],
      "execution_count": 12,
      "outputs": [
        {
          "output_type": "stream",
          "name": "stdout",
          "text": [
            "              precision    recall  f1-score   support\n",
            "\n",
            "           0       0.76      0.81      0.78        63\n",
            "           1       0.64      0.57      0.60        37\n",
            "\n",
            "    accuracy                           0.72       100\n",
            "   macro avg       0.70      0.69      0.69       100\n",
            "weighted avg       0.72      0.72      0.72       100\n",
            "\n"
          ]
        }
      ]
    },
    {
      "cell_type": "markdown",
      "metadata": {
        "id": "JYzWoz6J95ql"
      },
      "source": [
        "Теперь напишем свою реализацию Дерева Решений"
      ]
    },
    {
      "cell_type": "code",
      "metadata": {
        "id": "qrzVDBNC986H"
      },
      "source": [
        "class Node():\n",
        "    def __init__(\n",
        "            self, \n",
        "            feature_index=None, \n",
        "            threshold=None, left=None,\n",
        "            right=None, \n",
        "            info_gain=None, \n",
        "            value=None):\n",
        "\n",
        "        self.feature_index = feature_index\n",
        "        self.threshold = threshold\n",
        "        self.left = left\n",
        "        self.right = right\n",
        "        self.info_gain = info_gain\n",
        "        self.value = value\n",
        "\n",
        "class decision_tree():\n",
        "    def __init__(self, min_samples_split=2, max_depth=2):\n",
        "        self.root = None\n",
        "        self.min_samples_split = min_samples_split\n",
        "        self.max_depth = max_depth\n",
        "        \n",
        "    def build_tree(self, data, curr_depth=0):\n",
        "        X, Y = data[:,:-1], data[:,-1]\n",
        "        num_samples, num_features = np.shape(X)\n",
        "        \n",
        "        if num_samples >= self.min_samples_split and curr_depth <= self.max_depth:\n",
        "            best_split = self.get_best_split(data, num_samples, num_features)\n",
        "            \n",
        "            if best_split['info_gain'] > 0:\n",
        "                left_subtree = self.build_tree(best_split['data_left'], curr_depth + 1)\n",
        "                right_subtree = self.build_tree(best_split['data_right'], curr_depth + 1)\n",
        "                return Node(best_split['feature_index'], best_split['threshold'], left_subtree, right_subtree, best_split['info_gain'])\n",
        "        \n",
        "        leaf_value = max(list(Y), key=list(Y).count)\n",
        "        return Node(value=leaf_value)\n",
        "    \n",
        "    def get_best_split(self, data, num_samples, num_features):\n",
        "        best_split = {}\n",
        "        max_info_gain = -float('inf')\n",
        "        \n",
        "        for feature_index in range(num_features):\n",
        "            feature_values = data[:, feature_index]\n",
        "            for threshold in np.unique(feature_values):\n",
        "                data_left, data_right = self.split(data, feature_index, threshold)\n",
        "                if len(data_left) > 0 and len(data_right) > 0:\n",
        "                    y, left_y, right_y = data[:, -1], data_left[:, -1], data_right[:, -1]\n",
        "                    curr_info_gain = self.info_gain(y, left_y, right_y)\n",
        "                    \n",
        "                    if curr_info_gain > max_info_gain:\n",
        "                        best_split['feature_index'] = feature_index\n",
        "                        best_split['threshold'] = threshold\n",
        "                        best_split['data_left'] = data_left\n",
        "                        best_split['data_right'] = data_right\n",
        "                        best_split['info_gain'] = curr_info_gain\n",
        "                        max_info_gain = curr_info_gain\n",
        "        return best_split\n",
        "    \n",
        "\n",
        "    def split(self, data, i, border):\n",
        "        data_left = np.array([row for row in data if row[i] <= border])\n",
        "        data_right = np.array([row for row in data if row[i] > border])\n",
        "        return data_left, data_right\n",
        "    \n",
        "    def info_gain(self, parent, l_child, r_child):\n",
        "        weight_l = len(l_child) / len(parent)\n",
        "        weight_r = len(r_child) / len(parent)\n",
        "        return self.entropy(parent) - (weight_l * self.entropy(l_child) + weight_r * self.entropy(r_child))\n",
        "    \n",
        "    def entropy(self, y):\n",
        "        class_labels = np.unique(y)\n",
        "        entropy = 0\n",
        "        for c in class_labels:\n",
        "            p = len(y[y == c]) / len(y)\n",
        "            entropy += -p * np.log2(p)\n",
        "        return entropy\n",
        "\n",
        "    def fit(self, X, Y):\n",
        "        self.root = self.build_tree(np.concatenate((X, Y), axis=1))\n",
        "    \n",
        "    def predict(self, X):\n",
        "        return [self.prediction(x, self.root) for x in X]\n",
        "\n",
        "    def prediction(self, x, tree):\n",
        "        if tree.value != None: \n",
        "            return tree.value\n",
        "        else:\n",
        "            feature_val = x[tree.feature_index]\n",
        "            if feature_val<=tree.threshold:\n",
        "                return self.prediction(x, tree.left)\n",
        "            else:\n",
        "                return self.prediction(x, tree.right)"
      ],
      "execution_count": 13,
      "outputs": []
    },
    {
      "cell_type": "code",
      "metadata": {
        "colab": {
          "base_uri": "https://localhost:8080/"
        },
        "id": "1SYGjZfn9-CL",
        "outputId": "720d4c50-672b-433b-b860-7576ab142f21"
      },
      "source": [
        "params = [\n",
        "    (2, 1),\n",
        "    (2, 2),\n",
        "    (2, 3),\n",
        "    (2, 4),\n",
        "    (3, 1),\n",
        "    (3, 2),\n",
        "    (3, 3),\n",
        "    (3, 4),\n",
        "    (4, 1),\n",
        "    (4, 2),\n",
        "    (4, 3),\n",
        "    (4, 4)\n",
        "]\n",
        "\n",
        "for split_depth in params:\n",
        "    min_samples_split, max_depth = split_depth\n",
        "    mytree = decision_tree(min_samples_split, max_depth)\n",
        "    mytree.fit(pd.DataFrame(trainData), pd.DataFrame(trainLabel))\n",
        "    train_acc = np.mean(mytree.predict(trainData) == trainLabel)\n",
        "    test_acc = np.mean(mytree.predict(testData) == testLabel)\n",
        "    print([min_samples_split, max_depth, train_acc, test_acc])"
      ],
      "execution_count": 14,
      "outputs": [
        {
          "output_type": "stream",
          "name": "stdout",
          "text": [
            "[2, 1, 0.7723076923076924, 0.76]\n",
            "[2, 2, 0.7784615384615384, 0.76]\n",
            "[2, 3, 0.7846153846153846, 0.76]\n",
            "[2, 4, 0.8369230769230769, 0.73]\n",
            "[3, 1, 0.7723076923076924, 0.76]\n",
            "[3, 2, 0.7784615384615384, 0.76]\n",
            "[3, 3, 0.7846153846153846, 0.76]\n",
            "[3, 4, 0.8369230769230769, 0.73]\n",
            "[4, 1, 0.7723076923076924, 0.76]\n",
            "[4, 2, 0.7784615384615384, 0.76]\n",
            "[4, 3, 0.7846153846153846, 0.76]\n",
            "[4, 4, 0.8369230769230769, 0.73]\n"
          ]
        }
      ]
    },
    {
      "cell_type": "markdown",
      "metadata": {
        "id": "9yWw0X-Iy9Eh"
      },
      "source": [
        "Как видно, мы можем добиться точности в 76 процентов"
      ]
    },
    {
      "cell_type": "code",
      "metadata": {
        "id": "Je2vRHiY6VaE"
      },
      "source": [
        "class SVM_implementation:\n",
        "    def __init__(self, lr, lambda_, iters):\n",
        "        self.lr = lr\n",
        "        self.lambda_ = lambda_\n",
        "        self.iters = iters\n",
        "\n",
        "    def fit(self, X_train, y_train):\n",
        "        n = X_train.shape[0]\n",
        "        self.W = np.zeros(X.shape[1])\n",
        "        self.b = 0\n",
        "        y_ = np.where(y <= 0, -1, 1)\n",
        "\n",
        "        for i in range(self.iters):\n",
        "            for j, x in enumerate(X_train):\n",
        "                if y_[j] * ((x @ self.W) - self.b) >= 1:\n",
        "                    self.W -= self.lr * (2 * self.lambda_ * self.W)\n",
        "                else:\n",
        "                    self.W -= self.lr * (2 * self.lambda_ * self.W - np.dot(x,y_[j]))\n",
        "                    self.b -= self.lr * y_[j]\n",
        "\n",
        "    def predict(self, X):\n",
        "        res = np.dot(X, self.W) - self.b\n",
        "        y_pred = np.where(res >= 0, 1, 0)\n",
        "        return y_pred\n",
        "\n",
        "\n"
      ],
      "execution_count": 15,
      "outputs": []
    },
    {
      "cell_type": "code",
      "metadata": {
        "colab": {
          "base_uri": "https://localhost:8080/"
        },
        "id": "v__nryOUAPUZ",
        "outputId": "ddd4556f-3663-4daa-cf7e-b75d0a847635"
      },
      "source": [
        "params = [\n",
        "    (0.01, 0.01, 5000),\n",
        "    (0.001, 0.01, 1000),\n",
        "    (0.001, 0.01, 3000),\n",
        "    (0.001, 0.01, 5000),\n",
        "    (0.0001, 0.01, 3000),\n",
        "    (0.0001, 0.01, 5000),\n",
        "]\n",
        "\n",
        "for lr_lambda_iters in params:\n",
        "    lr, lambda_, iters = lr_lambda_iters\n",
        "    my_svm = SVM_implementation(lr=lr, lambda_=lambda_, iters=iters)\n",
        "    my_svm.fit(trainData, trainLabel)\n",
        "    y_pred_train = my_svm.predict(trainData)\n",
        "    y_pred_test = my_svm.predict(testData)\n",
        "    print(metrics.classification_report(testLabel, y_pred_test)) "
      ],
      "execution_count": null,
      "outputs": [
        {
          "output_type": "stream",
          "name": "stdout",
          "text": [
            "              precision    recall  f1-score   support\n",
            "\n",
            "           0       0.80      0.87      0.83        63\n",
            "           1       0.74      0.62      0.68        37\n",
            "\n",
            "    accuracy                           0.78       100\n",
            "   macro avg       0.77      0.75      0.75       100\n",
            "weighted avg       0.78      0.78      0.78       100\n",
            "\n",
            "              precision    recall  f1-score   support\n",
            "\n",
            "           0       0.76      0.86      0.81        63\n",
            "           1       0.69      0.54      0.61        37\n",
            "\n",
            "    accuracy                           0.74       100\n",
            "   macro avg       0.73      0.70      0.71       100\n",
            "weighted avg       0.73      0.74      0.73       100\n",
            "\n",
            "              precision    recall  f1-score   support\n",
            "\n",
            "           0       0.76      0.86      0.81        63\n",
            "           1       0.69      0.54      0.61        37\n",
            "\n",
            "    accuracy                           0.74       100\n",
            "   macro avg       0.73      0.70      0.71       100\n",
            "weighted avg       0.73      0.74      0.73       100\n",
            "\n"
          ]
        }
      ]
    },
    {
      "cell_type": "code",
      "metadata": {
        "id": "qVvjaCeYOq6h"
      },
      "source": [
        "Мы видим, что точность составила 78 процентов. Теперь опробуем встроенный"
      ],
      "execution_count": null,
      "outputs": []
    },
    {
      "cell_type": "code",
      "metadata": {
        "id": "7x5TLxrNOv20"
      },
      "source": [
        "from sklearn.svm import SVC\n",
        "\n",
        "sklearn_svm_model = SVC()\n",
        "sklearn_svm_model.fit(trainData, trainLabel)\n",
        "y_pred = sklearn_svm_model.predict(testData)\n",
        "print(metrics.classification_report(testLabel, y_pred)) "
      ],
      "execution_count": null,
      "outputs": []
    },
    {
      "cell_type": "markdown",
      "metadata": {
        "id": "t4TcUdkOXRkh"
      },
      "source": [
        "Мы видим, что своя реализация является эффективней"
      ]
    }
  ]
}